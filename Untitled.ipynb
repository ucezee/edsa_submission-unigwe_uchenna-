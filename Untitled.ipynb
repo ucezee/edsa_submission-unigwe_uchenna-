{
 "cells": [
  {
   "cell_type": "code",
   "execution_count": 35,
   "id": "7866aa90",
   "metadata": {},
   "outputs": [],
   "source": [
    "import nltk\n",
    "#import tensorflow as tf\n",
    "import numpy as np\n",
    "import pandas as pd\n",
    "\n",
    "import matplotlib.pyplot as plt\n",
    "%matplotlib inline\n",
    "import seaborn as sns\n",
    "import re\n",
    "\n",
    "# set plot style\n",
    "sns.set()"
   ]
  },
  {
   "cell_type": "code",
   "execution_count": 36,
   "id": "feac0fda",
   "metadata": {},
   "outputs": [
    {
     "data": {
      "text/html": [
       "<div>\n",
       "<style scoped>\n",
       "    .dataframe tbody tr th:only-of-type {\n",
       "        vertical-align: middle;\n",
       "    }\n",
       "\n",
       "    .dataframe tbody tr th {\n",
       "        vertical-align: top;\n",
       "    }\n",
       "\n",
       "    .dataframe thead th {\n",
       "        text-align: right;\n",
       "    }\n",
       "</style>\n",
       "<table border=\"1\" class=\"dataframe\">\n",
       "  <thead>\n",
       "    <tr style=\"text-align: right;\">\n",
       "      <th></th>\n",
       "      <th>index</th>\n",
       "      <th>text</th>\n",
       "    </tr>\n",
       "  </thead>\n",
       "  <tbody>\n",
       "    <tr>\n",
       "      <th>0</th>\n",
       "      <td>1</td>\n",
       "      <td>Mmasepala, fa maemo a a kgethegileng a letlele...</td>\n",
       "    </tr>\n",
       "    <tr>\n",
       "      <th>1</th>\n",
       "      <td>2</td>\n",
       "      <td>Uzakwaziswa ngokufaneleko nakungafuneka eminye...</td>\n",
       "    </tr>\n",
       "    <tr>\n",
       "      <th>2</th>\n",
       "      <td>3</td>\n",
       "      <td>Tshivhumbeo tshi fana na ngano dza vhathu.</td>\n",
       "    </tr>\n",
       "    <tr>\n",
       "      <th>3</th>\n",
       "      <td>4</td>\n",
       "      <td>Kube inja nelikati betingevakala kutsi titsini...</td>\n",
       "    </tr>\n",
       "    <tr>\n",
       "      <th>4</th>\n",
       "      <td>5</td>\n",
       "      <td>Winste op buitelandse valuta.</td>\n",
       "    </tr>\n",
       "  </tbody>\n",
       "</table>\n",
       "</div>"
      ],
      "text/plain": [
       "   index                                               text\n",
       "0      1  Mmasepala, fa maemo a a kgethegileng a letlele...\n",
       "1      2  Uzakwaziswa ngokufaneleko nakungafuneka eminye...\n",
       "2      3         Tshivhumbeo tshi fana na ngano dza vhathu.\n",
       "3      4  Kube inja nelikati betingevakala kutsi titsini...\n",
       "4      5                      Winste op buitelandse valuta."
      ]
     },
     "execution_count": 36,
     "metadata": {},
     "output_type": "execute_result"
    }
   ],
   "source": [
    "test_dt = pd.read_csv('test_set.csv')\n",
    "test_dt.head()"
   ]
  },
  {
   "cell_type": "code",
   "execution_count": 37,
   "id": "278bfdc7",
   "metadata": {},
   "outputs": [
    {
     "data": {
      "text/plain": [
       "(5682, 2)"
      ]
     },
     "execution_count": 37,
     "metadata": {},
     "output_type": "execute_result"
    }
   ],
   "source": [
    "test_dt.shape"
   ]
  },
  {
   "cell_type": "code",
   "execution_count": 38,
   "id": "2bbeaa1d",
   "metadata": {},
   "outputs": [
    {
     "data": {
      "text/html": [
       "<div>\n",
       "<style scoped>\n",
       "    .dataframe tbody tr th:only-of-type {\n",
       "        vertical-align: middle;\n",
       "    }\n",
       "\n",
       "    .dataframe tbody tr th {\n",
       "        vertical-align: top;\n",
       "    }\n",
       "\n",
       "    .dataframe thead th {\n",
       "        text-align: right;\n",
       "    }\n",
       "</style>\n",
       "<table border=\"1\" class=\"dataframe\">\n",
       "  <thead>\n",
       "    <tr style=\"text-align: right;\">\n",
       "      <th></th>\n",
       "      <th>lang_id</th>\n",
       "      <th>text</th>\n",
       "    </tr>\n",
       "  </thead>\n",
       "  <tbody>\n",
       "    <tr>\n",
       "      <th>0</th>\n",
       "      <td>xho</td>\n",
       "      <td>umgaqo-siseko wenza amalungiselelo kumaziko ax...</td>\n",
       "    </tr>\n",
       "    <tr>\n",
       "      <th>1</th>\n",
       "      <td>xho</td>\n",
       "      <td>i-dha iya kuba nobulumko bokubeka umsebenzi na...</td>\n",
       "    </tr>\n",
       "    <tr>\n",
       "      <th>2</th>\n",
       "      <td>eng</td>\n",
       "      <td>the province of kwazulu-natal department of tr...</td>\n",
       "    </tr>\n",
       "    <tr>\n",
       "      <th>3</th>\n",
       "      <td>nso</td>\n",
       "      <td>o netefatša gore o ba file dilo ka moka tše le...</td>\n",
       "    </tr>\n",
       "    <tr>\n",
       "      <th>4</th>\n",
       "      <td>ven</td>\n",
       "      <td>khomishini ya ndinganyiso ya mbeu yo ewa maana...</td>\n",
       "    </tr>\n",
       "  </tbody>\n",
       "</table>\n",
       "</div>"
      ],
      "text/plain": [
       "  lang_id                                               text\n",
       "0     xho  umgaqo-siseko wenza amalungiselelo kumaziko ax...\n",
       "1     xho  i-dha iya kuba nobulumko bokubeka umsebenzi na...\n",
       "2     eng  the province of kwazulu-natal department of tr...\n",
       "3     nso  o netefatša gore o ba file dilo ka moka tše le...\n",
       "4     ven  khomishini ya ndinganyiso ya mbeu yo ewa maana..."
      ]
     },
     "execution_count": 38,
     "metadata": {},
     "output_type": "execute_result"
    }
   ],
   "source": [
    "train_dt = pd.read_csv('train_set.csv')\n",
    "train_dt.head()"
   ]
  },
  {
   "cell_type": "code",
   "execution_count": 39,
   "id": "a35f75db",
   "metadata": {},
   "outputs": [
    {
     "data": {
      "text/plain": [
       "<AxesSubplot:>"
      ]
     },
     "execution_count": 39,
     "metadata": {},
     "output_type": "execute_result"
    },
    {
     "data": {
      "image/png": "[encoded data removed]",
      "text/plain": [
       "<Figure size 432x288 with 1 Axes>"
      ]
     },
     "metadata": {},
     "output_type": "display_data"
    }
   ],
   "source": [
    "train_dt['lang_id'].value_counts().plot(kind = 'bar')"
   ]
  },
  {
   "cell_type": "code",
   "execution_count": 40,
   "id": "a1a9efd7",
   "metadata": {},
   "outputs": [
    {
     "data": {
      "text/plain": [
       "(33000, 2)"
      ]
     },
     "execution_count": 40,
     "metadata": {},
     "output_type": "execute_result"
    }
   ],
   "source": [
    "train_dt.shape"
   ]
  },
  {
   "cell_type": "code",
   "execution_count": 41,
   "id": "ffa7ca62",
   "metadata": {},
   "outputs": [
    {
     "data": {
      "text/plain": [
       "29948"
      ]
     },
     "execution_count": 41,
     "metadata": {},
     "output_type": "execute_result"
    }
   ],
   "source": [
    "len(train_dt['text'].unique())"
   ]
  },
  {
   "cell_type": "code",
   "execution_count": 42,
   "id": "3fffbe79",
   "metadata": {},
   "outputs": [
    {
     "data": {
      "text/plain": [
       "(3052, 2)"
      ]
     },
     "execution_count": 42,
     "metadata": {},
     "output_type": "execute_result"
    }
   ],
   "source": [
    "train_dt[train_dt.duplicated(['text'])].shape"
   ]
  },
  {
   "cell_type": "code",
   "execution_count": 43,
   "id": "9d73b833",
   "metadata": {},
   "outputs": [
    {
     "data": {
      "text/html": [
       "<div>\n",
       "<style scoped>\n",
       "    .dataframe tbody tr th:only-of-type {\n",
       "        vertical-align: middle;\n",
       "    }\n",
       "\n",
       "    .dataframe tbody tr th {\n",
       "        vertical-align: top;\n",
       "    }\n",
       "\n",
       "    .dataframe thead th {\n",
       "        text-align: right;\n",
       "    }\n",
       "</style>\n",
       "<table border=\"1\" class=\"dataframe\">\n",
       "  <thead>\n",
       "    <tr style=\"text-align: right;\">\n",
       "      <th></th>\n",
       "      <th>lang_id</th>\n",
       "      <th>text</th>\n",
       "    </tr>\n",
       "  </thead>\n",
       "  <tbody>\n",
       "  </tbody>\n",
       "</table>\n",
       "</div>"
      ],
      "text/plain": [
       "Empty DataFrame\n",
       "Columns: [lang_id, text]\n",
       "Index: []"
      ]
     },
     "execution_count": 43,
     "metadata": {},
     "output_type": "execute_result"
    }
   ],
   "source": [
    "train_dt.groupby('text').filter(lambda x: len(x['lang_id'].unique()) > 1)"
   ]
  },
  {
   "cell_type": "code",
   "execution_count": 44,
   "id": "76a25816",
   "metadata": {},
   "outputs": [
    {
     "data": {
      "text/plain": [
       "nbl    638\n",
       "ssw    574\n",
       "ven    395\n",
       "afr    359\n",
       "xho    341\n",
       "tso    242\n",
       "sot    167\n",
       "tsn    131\n",
       "nso    127\n",
       "zul     76\n",
       "eng      2\n",
       "Name: lang_id, dtype: int64"
      ]
     },
     "execution_count": 44,
     "metadata": {},
     "output_type": "execute_result"
    }
   ],
   "source": [
    "train_dt[train_dt.duplicated(['text'])]['lang_id'].value_counts()#.plot(kind = 'bar')"
   ]
  },
  {
   "cell_type": "code",
   "execution_count": 45,
   "id": "aee7ef7f",
   "metadata": {},
   "outputs": [
    {
     "name": "stdout",
     "output_type": "stream",
     "text": [
      "!\"#$%&'()*+,-./:;<=>?@[\\]^_`{|}~\n",
      "!\"#$%&'()*+,-./:;<=>?@[\\]^_`{|}~0123456789\n"
     ]
    }
   ],
   "source": [
    "pattern_url = r'http[s]?://(?:[A-Za-z]|[0-9]|[$-_@.&+]|[!*\\(\\),]|(?:%[0-9A-Fa-f][0-9A-Fa-f]))+'\n",
    "subs_url = r'url-web'\n",
    "train_dt['text1'] = train_dt['text'].replace(to_replace = pattern_url, value = subs_url, regex = True)\n",
    "test_dt['text1'] = test_dt['text'].replace(to_replace = pattern_url, value = subs_url, regex = True)\n",
    "\n",
    "train_dt['text2'] = train_dt['text1'].str.lower()\n",
    "test_dt['text2'] = test_dt['text1'].str.lower()\n",
    "\n",
    "import string\n",
    "print(string.punctuation)\n",
    "punc = string.punctuation + '0123456789'\n",
    "print (punc)\n",
    "\n",
    "def remove_punctuation(post):\n",
    "    return ''.join([l for l in post if l not in punc])\n",
    "\n",
    "train_dt['text3'] = train_dt['text2'].apply(remove_punctuation)\n",
    "test_dt['text3'] = test_dt['text2'].apply(remove_punctuation)"
   ]
  },
  {
   "cell_type": "code",
   "execution_count": 46,
   "id": "d875a08f",
   "metadata": {},
   "outputs": [
    {
     "data": {
      "text/html": [
       "<div>\n",
       "<style scoped>\n",
       "    .dataframe tbody tr th:only-of-type {\n",
       "        vertical-align: middle;\n",
       "    }\n",
       "\n",
       "    .dataframe tbody tr th {\n",
       "        vertical-align: top;\n",
       "    }\n",
       "\n",
       "    .dataframe thead th {\n",
       "        text-align: right;\n",
       "    }\n",
       "</style>\n",
       "<table border=\"1\" class=\"dataframe\">\n",
       "  <thead>\n",
       "    <tr style=\"text-align: right;\">\n",
       "      <th></th>\n",
       "      <th>lang_id</th>\n",
       "      <th>text</th>\n",
       "      <th>text1</th>\n",
       "      <th>text2</th>\n",
       "      <th>text3</th>\n",
       "    </tr>\n",
       "  </thead>\n",
       "  <tbody>\n",
       "    <tr>\n",
       "      <th>0</th>\n",
       "      <td>xho</td>\n",
       "      <td>umgaqo-siseko wenza amalungiselelo kumaziko ax...</td>\n",
       "      <td>umgaqo-siseko wenza amalungiselelo kumaziko ax...</td>\n",
       "      <td>umgaqo-siseko wenza amalungiselelo kumaziko ax...</td>\n",
       "      <td>umgaqosiseko wenza amalungiselelo kumaziko axh...</td>\n",
       "    </tr>\n",
       "    <tr>\n",
       "      <th>1</th>\n",
       "      <td>xho</td>\n",
       "      <td>i-dha iya kuba nobulumko bokubeka umsebenzi na...</td>\n",
       "      <td>i-dha iya kuba nobulumko bokubeka umsebenzi na...</td>\n",
       "      <td>i-dha iya kuba nobulumko bokubeka umsebenzi na...</td>\n",
       "      <td>idha iya kuba nobulumko bokubeka umsebenzi nap...</td>\n",
       "    </tr>\n",
       "    <tr>\n",
       "      <th>2</th>\n",
       "      <td>eng</td>\n",
       "      <td>the province of kwazulu-natal department of tr...</td>\n",
       "      <td>the province of kwazulu-natal department of tr...</td>\n",
       "      <td>the province of kwazulu-natal department of tr...</td>\n",
       "      <td>the province of kwazulunatal department of tra...</td>\n",
       "    </tr>\n",
       "    <tr>\n",
       "      <th>3</th>\n",
       "      <td>nso</td>\n",
       "      <td>o netefatša gore o ba file dilo ka moka tše le...</td>\n",
       "      <td>o netefatša gore o ba file dilo ka moka tše le...</td>\n",
       "      <td>o netefatša gore o ba file dilo ka moka tše le...</td>\n",
       "      <td>o netefatša gore o ba file dilo ka moka tše le...</td>\n",
       "    </tr>\n",
       "    <tr>\n",
       "      <th>4</th>\n",
       "      <td>ven</td>\n",
       "      <td>khomishini ya ndinganyiso ya mbeu yo ewa maana...</td>\n",
       "      <td>khomishini ya ndinganyiso ya mbeu yo ewa maana...</td>\n",
       "      <td>khomishini ya ndinganyiso ya mbeu yo ewa maana...</td>\n",
       "      <td>khomishini ya ndinganyiso ya mbeu yo ewa maana...</td>\n",
       "    </tr>\n",
       "    <tr>\n",
       "      <th>5</th>\n",
       "      <td>nso</td>\n",
       "      <td>dinyakišišo tše tša go dirwa gabedi ka ngwaga ...</td>\n",
       "      <td>dinyakišišo tše tša go dirwa gabedi ka ngwaga ...</td>\n",
       "      <td>dinyakišišo tše tša go dirwa gabedi ka ngwaga ...</td>\n",
       "      <td>dinyakišišo tše tša go dirwa gabedi ka ngwaga ...</td>\n",
       "    </tr>\n",
       "    <tr>\n",
       "      <th>6</th>\n",
       "      <td>tsn</td>\n",
       "      <td>kgetse nngwe le nngwe e e sa faposiwang mo tsh...</td>\n",
       "      <td>kgetse nngwe le nngwe e e sa faposiwang mo tsh...</td>\n",
       "      <td>kgetse nngwe le nngwe e e sa faposiwang mo tsh...</td>\n",
       "      <td>kgetse nngwe le nngwe e e sa faposiwang mo tsh...</td>\n",
       "    </tr>\n",
       "    <tr>\n",
       "      <th>7</th>\n",
       "      <td>ven</td>\n",
       "      <td>mbadelo dze dza laelwa dzi do kwama mahatulele...</td>\n",
       "      <td>mbadelo dze dza laelwa dzi do kwama mahatulele...</td>\n",
       "      <td>mbadelo dze dza laelwa dzi do kwama mahatulele...</td>\n",
       "      <td>mbadelo dze dza laelwa dzi do kwama mahatulele...</td>\n",
       "    </tr>\n",
       "    <tr>\n",
       "      <th>8</th>\n",
       "      <td>nso</td>\n",
       "      <td>maloko a dikhuduthamaga a ikarabela mongwe le ...</td>\n",
       "      <td>maloko a dikhuduthamaga a ikarabela mongwe le ...</td>\n",
       "      <td>maloko a dikhuduthamaga a ikarabela mongwe le ...</td>\n",
       "      <td>maloko a dikhuduthamaga a ikarabela mongwe le ...</td>\n",
       "    </tr>\n",
       "    <tr>\n",
       "      <th>9</th>\n",
       "      <td>tsn</td>\n",
       "      <td>fa le dirisiwa lebone le tshwanetse go bontsha...</td>\n",
       "      <td>fa le dirisiwa lebone le tshwanetse go bontsha...</td>\n",
       "      <td>fa le dirisiwa lebone le tshwanetse go bontsha...</td>\n",
       "      <td>fa le dirisiwa lebone le tshwanetse go bontsha...</td>\n",
       "    </tr>\n",
       "    <tr>\n",
       "      <th>10</th>\n",
       "      <td>nbl</td>\n",
       "      <td>lapho inarha yangeqadi ingenwe ngokungasimthet...</td>\n",
       "      <td>lapho inarha yangeqadi ingenwe ngokungasimthet...</td>\n",
       "      <td>lapho inarha yangeqadi ingenwe ngokungasimthet...</td>\n",
       "      <td>lapho inarha yangeqadi ingenwe ngokungasimthet...</td>\n",
       "    </tr>\n",
       "    <tr>\n",
       "      <th>11</th>\n",
       "      <td>ven</td>\n",
       "      <td>yo dovha hafhu ya khwaṱhisedza uri hu vhe na m...</td>\n",
       "      <td>yo dovha hafhu ya khwaṱhisedza uri hu vhe na m...</td>\n",
       "      <td>yo dovha hafhu ya khwaṱhisedza uri hu vhe na m...</td>\n",
       "      <td>yo dovha hafhu ya khwaṱhisedza uri hu vhe na m...</td>\n",
       "    </tr>\n",
       "    <tr>\n",
       "      <th>12</th>\n",
       "      <td>zul</td>\n",
       "      <td>i-tip-offs anonymous wusizo locingo oluzimele ...</td>\n",
       "      <td>i-tip-offs anonymous wusizo locingo oluzimele ...</td>\n",
       "      <td>i-tip-offs anonymous wusizo locingo oluzimele ...</td>\n",
       "      <td>itipoffs anonymous wusizo locingo oluzimele fu...</td>\n",
       "    </tr>\n",
       "    <tr>\n",
       "      <th>13</th>\n",
       "      <td>ssw</td>\n",
       "      <td>tekulima lokufaka ekhatsi yonkhe imisebenti ye...</td>\n",
       "      <td>tekulima lokufaka ekhatsi yonkhe imisebenti ye...</td>\n",
       "      <td>tekulima lokufaka ekhatsi yonkhe imisebenti ye...</td>\n",
       "      <td>tekulima lokufaka ekhatsi yonkhe imisebenti ye...</td>\n",
       "    </tr>\n",
       "    <tr>\n",
       "      <th>14</th>\n",
       "      <td>zul</td>\n",
       "      <td>noma yiliphi ilungu lombutho wezokuvikela elin...</td>\n",
       "      <td>noma yiliphi ilungu lombutho wezokuvikela elin...</td>\n",
       "      <td>noma yiliphi ilungu lombutho wezokuvikela elin...</td>\n",
       "      <td>noma yiliphi ilungu lombutho wezokuvikela elin...</td>\n",
       "    </tr>\n",
       "    <tr>\n",
       "      <th>15</th>\n",
       "      <td>nso</td>\n",
       "      <td>c a fa tumelelo ya go hloma go aga goba go bea...</td>\n",
       "      <td>c a fa tumelelo ya go hloma go aga goba go bea...</td>\n",
       "      <td>c a fa tumelelo ya go hloma go aga goba go bea...</td>\n",
       "      <td>c a fa tumelelo ya go hloma go aga goba go bea...</td>\n",
       "    </tr>\n",
       "    <tr>\n",
       "      <th>16</th>\n",
       "      <td>tso</td>\n",
       "      <td>migingiriko ya cbnrm hinkwayo yi katsa ku tumb...</td>\n",
       "      <td>migingiriko ya cbnrm hinkwayo yi katsa ku tumb...</td>\n",
       "      <td>migingiriko ya cbnrm hinkwayo yi katsa ku tumb...</td>\n",
       "      <td>migingiriko ya cbnrm hinkwayo yi katsa ku tumb...</td>\n",
       "    </tr>\n",
       "    <tr>\n",
       "      <th>17</th>\n",
       "      <td>zul</td>\n",
       "      <td>amalungu nabangabasebenzi banelungelo lokwenza...</td>\n",
       "      <td>amalungu nabangabasebenzi banelungelo lokwenza...</td>\n",
       "      <td>amalungu nabangabasebenzi banelungelo lokwenza...</td>\n",
       "      <td>amalungu nabangabasebenzi banelungelo lokwenza...</td>\n",
       "    </tr>\n",
       "    <tr>\n",
       "      <th>18</th>\n",
       "      <td>sot</td>\n",
       "      <td>ka ho mengwa lefapheng la lona diprofeshenale ...</td>\n",
       "      <td>ka ho mengwa lefapheng la lona diprofeshenale ...</td>\n",
       "      <td>ka ho mengwa lefapheng la lona diprofeshenale ...</td>\n",
       "      <td>ka ho mengwa lefapheng la lona diprofeshenale ...</td>\n",
       "    </tr>\n",
       "    <tr>\n",
       "      <th>19</th>\n",
       "      <td>nbl</td>\n",
       "      <td>isitifikhethi somtjhado esingakarhunyezwa namk...</td>\n",
       "      <td>isitifikhethi somtjhado esingakarhunyezwa namk...</td>\n",
       "      <td>isitifikhethi somtjhado esingakarhunyezwa namk...</td>\n",
       "      <td>isitifikhethi somtjhado esingakarhunyezwa namk...</td>\n",
       "    </tr>\n",
       "  </tbody>\n",
       "</table>\n",
       "</div>"
      ],
      "text/plain": [
       "   lang_id                                               text  \\\n",
       "0      xho  umgaqo-siseko wenza amalungiselelo kumaziko ax...   \n",
       "1      xho  i-dha iya kuba nobulumko bokubeka umsebenzi na...   \n",
       "2      eng  the province of kwazulu-natal department of tr...   \n",
       "3      nso  o netefatša gore o ba file dilo ka moka tše le...   \n",
       "4      ven  khomishini ya ndinganyiso ya mbeu yo ewa maana...   \n",
       "5      nso  dinyakišišo tše tša go dirwa gabedi ka ngwaga ...   \n",
       "6      tsn  kgetse nngwe le nngwe e e sa faposiwang mo tsh...   \n",
       "7      ven  mbadelo dze dza laelwa dzi do kwama mahatulele...   \n",
       "8      nso  maloko a dikhuduthamaga a ikarabela mongwe le ...   \n",
       "9      tsn  fa le dirisiwa lebone le tshwanetse go bontsha...   \n",
       "10     nbl  lapho inarha yangeqadi ingenwe ngokungasimthet...   \n",
       "11     ven  yo dovha hafhu ya khwaṱhisedza uri hu vhe na m...   \n",
       "12     zul  i-tip-offs anonymous wusizo locingo oluzimele ...   \n",
       "13     ssw  tekulima lokufaka ekhatsi yonkhe imisebenti ye...   \n",
       "14     zul  noma yiliphi ilungu lombutho wezokuvikela elin...   \n",
       "15     nso  c a fa tumelelo ya go hloma go aga goba go bea...   \n",
       "16     tso  migingiriko ya cbnrm hinkwayo yi katsa ku tumb...   \n",
       "17     zul  amalungu nabangabasebenzi banelungelo lokwenza...   \n",
       "18     sot  ka ho mengwa lefapheng la lona diprofeshenale ...   \n",
       "19     nbl  isitifikhethi somtjhado esingakarhunyezwa namk...   \n",
       "\n",
       "                                                text1  \\\n",
       "0   umgaqo-siseko wenza amalungiselelo kumaziko ax...   \n",
       "1   i-dha iya kuba nobulumko bokubeka umsebenzi na...   \n",
       "2   the province of kwazulu-natal department of tr...   \n",
       "3   o netefatša gore o ba file dilo ka moka tše le...   \n",
       "4   khomishini ya ndinganyiso ya mbeu yo ewa maana...   \n",
       "5   dinyakišišo tše tša go dirwa gabedi ka ngwaga ...   \n",
       "6   kgetse nngwe le nngwe e e sa faposiwang mo tsh...   \n",
       "7   mbadelo dze dza laelwa dzi do kwama mahatulele...   \n",
       "8   maloko a dikhuduthamaga a ikarabela mongwe le ...   \n",
       "9   fa le dirisiwa lebone le tshwanetse go bontsha...   \n",
       "10  lapho inarha yangeqadi ingenwe ngokungasimthet...   \n",
       "11  yo dovha hafhu ya khwaṱhisedza uri hu vhe na m...   \n",
       "12  i-tip-offs anonymous wusizo locingo oluzimele ...   \n",
       "13  tekulima lokufaka ekhatsi yonkhe imisebenti ye...   \n",
       "14  noma yiliphi ilungu lombutho wezokuvikela elin...   \n",
       "15  c a fa tumelelo ya go hloma go aga goba go bea...   \n",
       "16  migingiriko ya cbnrm hinkwayo yi katsa ku tumb...   \n",
       "17  amalungu nabangabasebenzi banelungelo lokwenza...   \n",
       "18  ka ho mengwa lefapheng la lona diprofeshenale ...   \n",
       "19  isitifikhethi somtjhado esingakarhunyezwa namk...   \n",
       "\n",
       "                                                text2  \\\n",
       "0   umgaqo-siseko wenza amalungiselelo kumaziko ax...   \n",
       "1   i-dha iya kuba nobulumko bokubeka umsebenzi na...   \n",
       "2   the province of kwazulu-natal department of tr...   \n",
       "3   o netefatša gore o ba file dilo ka moka tše le...   \n",
       "4   khomishini ya ndinganyiso ya mbeu yo ewa maana...   \n",
       "5   dinyakišišo tše tša go dirwa gabedi ka ngwaga ...   \n",
       "6   kgetse nngwe le nngwe e e sa faposiwang mo tsh...   \n",
       "7   mbadelo dze dza laelwa dzi do kwama mahatulele...   \n",
       "8   maloko a dikhuduthamaga a ikarabela mongwe le ...   \n",
       "9   fa le dirisiwa lebone le tshwanetse go bontsha...   \n",
       "10  lapho inarha yangeqadi ingenwe ngokungasimthet...   \n",
       "11  yo dovha hafhu ya khwaṱhisedza uri hu vhe na m...   \n",
       "12  i-tip-offs anonymous wusizo locingo oluzimele ...   \n",
       "13  tekulima lokufaka ekhatsi yonkhe imisebenti ye...   \n",
       "14  noma yiliphi ilungu lombutho wezokuvikela elin...   \n",
       "15  c a fa tumelelo ya go hloma go aga goba go bea...   \n",
       "16  migingiriko ya cbnrm hinkwayo yi katsa ku tumb...   \n",
       "17  amalungu nabangabasebenzi banelungelo lokwenza...   \n",
       "18  ka ho mengwa lefapheng la lona diprofeshenale ...   \n",
       "19  isitifikhethi somtjhado esingakarhunyezwa namk...   \n",
       "\n",
       "                                                text3  \n",
       "0   umgaqosiseko wenza amalungiselelo kumaziko axh...  \n",
       "1   idha iya kuba nobulumko bokubeka umsebenzi nap...  \n",
       "2   the province of kwazulunatal department of tra...  \n",
       "3   o netefatša gore o ba file dilo ka moka tše le...  \n",
       "4   khomishini ya ndinganyiso ya mbeu yo ewa maana...  \n",
       "5   dinyakišišo tše tša go dirwa gabedi ka ngwaga ...  \n",
       "6   kgetse nngwe le nngwe e e sa faposiwang mo tsh...  \n",
       "7   mbadelo dze dza laelwa dzi do kwama mahatulele...  \n",
       "8   maloko a dikhuduthamaga a ikarabela mongwe le ...  \n",
       "9   fa le dirisiwa lebone le tshwanetse go bontsha...  \n",
       "10  lapho inarha yangeqadi ingenwe ngokungasimthet...  \n",
       "11  yo dovha hafhu ya khwaṱhisedza uri hu vhe na m...  \n",
       "12  itipoffs anonymous wusizo locingo oluzimele fu...  \n",
       "13  tekulima lokufaka ekhatsi yonkhe imisebenti ye...  \n",
       "14  noma yiliphi ilungu lombutho wezokuvikela elin...  \n",
       "15  c a fa tumelelo ya go hloma go aga goba go bea...  \n",
       "16  migingiriko ya cbnrm hinkwayo yi katsa ku tumb...  \n",
       "17  amalungu nabangabasebenzi banelungelo lokwenza...  \n",
       "18  ka ho mengwa lefapheng la lona diprofeshenale ...  \n",
       "19  isitifikhethi somtjhado esingakarhunyezwa namk...  "
      ]
     },
     "execution_count": 46,
     "metadata": {},
     "output_type": "execute_result"
    }
   ],
   "source": [
    "train_dt.head(20)"
   ]
  },
  {
   "cell_type": "code",
   "execution_count": 47,
   "id": "7aa9a820",
   "metadata": {},
   "outputs": [],
   "source": [
    "from sklearn.preprocessing import LabelEncoder\n",
    "le = LabelEncoder()\n",
    "label = le.fit_transform(train_dt['lang_id'])"
   ]
  },
  {
   "cell_type": "code",
   "execution_count": 48,
   "id": "87bf8374",
   "metadata": {},
   "outputs": [
    {
     "data": {
      "text/plain": [
       "['afr', 'eng', 'nbl', 'nso', 'sot', 'ssw', 'tsn', 'tso', 'ven', 'xho', 'zul']"
      ]
     },
     "execution_count": 48,
     "metadata": {},
     "output_type": "execute_result"
    }
   ],
   "source": [
    "type_labels = list(le.classes_)\n",
    "type_labels"
   ]
  },
  {
   "cell_type": "code",
   "execution_count": 49,
   "id": "283fc03e",
   "metadata": {},
   "outputs": [
    {
     "data": {
      "text/plain": [
       "33000"
      ]
     },
     "execution_count": 49,
     "metadata": {},
     "output_type": "execute_result"
    }
   ],
   "source": [
    "# Fit label encoder and return encoded labels\n",
    "y = le.fit_transform(train_dt['lang_id'])\n",
    "len(y)"
   ]
  },
  {
   "cell_type": "code",
   "execution_count": 50,
   "id": "a1cf2122",
   "metadata": {},
   "outputs": [],
   "source": [
    "from sklearn.feature_extraction.text import CountVectorizer\n",
    "vect_20 = CountVectorizer()\n",
    "X_count = vect_20.fit_transform(train_dt['text'].values.astype(str))\n",
    "X_test_count = vect_20.transform(test_dt['text'].values.astype(str))"
   ]
  },
  {
   "cell_type": "code",
   "execution_count": 51,
   "id": "7b574011",
   "metadata": {},
   "outputs": [
    {
     "data": {
      "text/plain": [
       "(33000, 141958)"
      ]
     },
     "execution_count": 51,
     "metadata": {},
     "output_type": "execute_result"
    }
   ],
   "source": [
    "X_count.shape"
   ]
  },
  {
   "cell_type": "code",
   "execution_count": 52,
   "id": "11f8b229",
   "metadata": {},
   "outputs": [
    {
     "data": {
      "text/plain": [
       "(5682, 141958)"
      ]
     },
     "execution_count": 52,
     "metadata": {},
     "output_type": "execute_result"
    }
   ],
   "source": [
    "X_test_count.shape"
   ]
  },
  {
   "cell_type": "markdown",
   "id": "24c719d9",
   "metadata": {},
   "source": [
    "from sklearn.feature_selection import VarianceThreshold\n",
    "selector = VarianceThreshold(threshold=0.02)\n",
    "\n",
    "# Transform (i.e.: run selection on) the training data\n",
    "X_train_vt = selector.fit_transform(X_count)\n",
    "X_test_vt = selector.transform(X_test_count)"
   ]
  },
  {
   "cell_type": "code",
   "execution_count": 53,
   "id": "2d51c0e6",
   "metadata": {},
   "outputs": [],
   "source": [
    "from sklearn.model_selection import train_test_split\n",
    "\n",
    "X_train, X_test, y_train, y_test = train_test_split(X_count, y, test_size=0.2)\n"
   ]
  },
  {
   "cell_type": "code",
   "execution_count": 54,
   "id": "350ed909",
   "metadata": {},
   "outputs": [
    {
     "data": {
      "text/plain": [
       "array([9, 9, 1, ..., 1, 9, 4])"
      ]
     },
     "execution_count": 54,
     "metadata": {},
     "output_type": "execute_result"
    }
   ],
   "source": [
    "y"
   ]
  },
  {
   "cell_type": "code",
   "execution_count": null,
   "id": "bacf93a1",
   "metadata": {},
   "outputs": [],
   "source": [
    "from sklearn.linear_model import LogisticRegression\n",
    "from sklearn.naive_bayes import MultinomialNB, \n",
    "from sklearn.neighbors import KNeighborsClassifier\n",
    "from sklearn.svm import SVC\n",
    "from sklearn.discriminant_analysis import LinearDiscriminantAnalysis\n",
    "from sklearn.discriminant_analysis import QuadraticDiscriminantAnalysis\n",
    "from sklearn.tree import DecisionTreeClassifier\n",
    "from sklearn.ensemble import RandomForestClassifier, AdaBoostClassifier\n",
    "from sklearn import metrics\n",
    "\n",
    "names = ['MultinomialNB', \n",
    "         #'Nearest Neighbors',\n",
    "         'Linear SVM', \n",
    "        #'RBF SVM',\n",
    "         'Decision Tree', \n",
    "        'Random Forest', \n",
    "         'AdaBoost'\n",
    "         'Logistic Regression',\n",
    "        ]\n",
    "classifiers = [\n",
    "    MultinomialNB(),\n",
    "    #KNeighborsClassifier(6),\n",
    "    SVC(kernel=\"linear\", C=0.3),\n",
    "    #SVC(gamma=2, C=1),\n",
    "    DecisionTreeClassifier(),\n",
    "    RandomForestClassifier(),\n",
    "    AdaBoostClassifier(),\n",
    "    LogisticRegression(),\n",
    "]\n",
    "\n",
    "results = []\n",
    "\n",
    "models = {}\n",
    "confusion = {}\n",
    "class_report = {}\n",
    "\n",
    "\n",
    "for name, clf in zip(names, classifiers):\n",
    "    print ('Fitting {:s} model...'.format(name))\n",
    "    run_time = %timeit -q -o clf.fit(X_train, y_train)\n",
    "\n",
    "    print ('... predicting')\n",
    "    y_pred = clf.predict(X_train)\n",
    "    y_pred_test = clf.predict(X_test)\n",
    "\n",
    "    print ('... scoring')\n",
    "    accuracy  = metrics.accuracy_score(y_train, y_pred)\n",
    "    precision = metrics.precision_score(y_train, y_pred, average = 'weighted')\n",
    "    recall    = metrics.recall_score(y_train, y_pred,average = 'weighted')\n",
    "\n",
    "    f1        = metrics.f1_score(y_train, y_pred,average = 'weighted')\n",
    "    f1_test   = metrics.f1_score(y_test, y_pred_test,average ='weighted')\n",
    "\n",
    "    # Save the results to dictionaries\n",
    "    models[name] = clf\n",
    "    confusion[name] = metrics.confusion_matrix(y_train, y_pred)\n",
    "    class_report[name] = metrics.classification_report(y_train, y_pred)\n",
    "\n",
    "    results.append([name, accuracy, precision, recall, f1, f1_test, run_time.best])\n",
    "\n",
    "\n",
    "results = pd.DataFrame(results, columns=['Classifier', 'Accuracy', 'Precision', 'Recall', 'F1 Train', 'F1 Test', 'Train Time'])\n",
    "results.set_index('Classifier', inplace= True)\n",
    "\n",
    "print ('... All done!')"
   ]
  },
  {
   "cell_type": "markdown",
   "id": "5d74c9e6",
   "metadata": {},
   "source": [
    "from sklearn.naive_bayes import MultinomialNB\n",
    "from sklearn.tree import DecisionTreeClassifier\n",
    "Classifier = 'MultinomialNB'\n",
    "results = []\n",
    "md = MultinomialNB()\n",
    "run_time = %timeit -q -o md.fit(X_train, y_train)\n",
    "\n",
    "\n",
    "y_pred = md.predict(X_train)\n",
    "y_pred_test = md.predict(X_test)\n",
    "\n",
    "f1        = metrics.f1_score(y_train, y_pred,average = 'weighted')\n",
    "f1_test   = metrics.f1_score(y_test, y_pred_test,average ='weighted')\n",
    "\n",
    "\n",
    "class_report = metrics.classification_report(y_train, y_pred)\n",
    "confusion = metrics.confusion_matrix(y_train, y_pred)\n",
    "\n",
    "results.append([Classifier, f1, f1_test, run_time.best])\n",
    "results = pd.DataFrame(results, columns=['Classifier', 'F1 Train', 'F1 Test', 'Train Time'])\n",
    "results.set_index('Classifier', inplace= True)"
   ]
  },
  {
   "cell_type": "code",
   "execution_count": 22,
   "id": "cb9c6144",
   "metadata": {},
   "outputs": [
    {
     "data": {
      "text/html": [
       "<div>\n",
       "<style scoped>\n",
       "    .dataframe tbody tr th:only-of-type {\n",
       "        vertical-align: middle;\n",
       "    }\n",
       "\n",
       "    .dataframe tbody tr th {\n",
       "        vertical-align: top;\n",
       "    }\n",
       "\n",
       "    .dataframe thead th {\n",
       "        text-align: right;\n",
       "    }\n",
       "</style>\n",
       "<table border=\"1\" class=\"dataframe\">\n",
       "  <thead>\n",
       "    <tr style=\"text-align: right;\">\n",
       "      <th></th>\n",
       "      <th>Accuracy</th>\n",
       "      <th>Precision</th>\n",
       "      <th>Recall</th>\n",
       "      <th>F1 Train</th>\n",
       "      <th>F1 Test</th>\n",
       "      <th>Train Time</th>\n",
       "    </tr>\n",
       "    <tr>\n",
       "      <th>Classifier</th>\n",
       "      <th></th>\n",
       "      <th></th>\n",
       "      <th></th>\n",
       "      <th></th>\n",
       "      <th></th>\n",
       "      <th></th>\n",
       "    </tr>\n",
       "  </thead>\n",
       "  <tbody>\n",
       "    <tr>\n",
       "      <th>Linear SVM</th>\n",
       "      <td>1.000000</td>\n",
       "      <td>1.000000</td>\n",
       "      <td>1.000000</td>\n",
       "      <td>1.000000</td>\n",
       "      <td>0.996211</td>\n",
       "      <td>58.174457</td>\n",
       "    </tr>\n",
       "    <tr>\n",
       "      <th>Decision Tree</th>\n",
       "      <td>1.000000</td>\n",
       "      <td>1.000000</td>\n",
       "      <td>1.000000</td>\n",
       "      <td>1.000000</td>\n",
       "      <td>0.948120</td>\n",
       "      <td>16.134581</td>\n",
       "    </tr>\n",
       "    <tr>\n",
       "      <th>Random Forest</th>\n",
       "      <td>1.000000</td>\n",
       "      <td>1.000000</td>\n",
       "      <td>1.000000</td>\n",
       "      <td>1.000000</td>\n",
       "      <td>0.988048</td>\n",
       "      <td>252.485492</td>\n",
       "    </tr>\n",
       "    <tr>\n",
       "      <th>MultinomialNB</th>\n",
       "      <td>0.999811</td>\n",
       "      <td>0.999811</td>\n",
       "      <td>0.999811</td>\n",
       "      <td>0.999811</td>\n",
       "      <td>0.999394</td>\n",
       "      <td>0.191845</td>\n",
       "    </tr>\n",
       "    <tr>\n",
       "      <th>AdaBoostLogistic Regression</th>\n",
       "      <td>0.655227</td>\n",
       "      <td>0.712571</td>\n",
       "      <td>0.655227</td>\n",
       "      <td>0.618259</td>\n",
       "      <td>0.608928</td>\n",
       "      <td>375.141921</td>\n",
       "    </tr>\n",
       "  </tbody>\n",
       "</table>\n",
       "</div>"
      ],
      "text/plain": [
       "                             Accuracy  Precision    Recall  F1 Train  \\\n",
       "Classifier                                                             \n",
       "Linear SVM                   1.000000   1.000000  1.000000  1.000000   \n",
       "Decision Tree                1.000000   1.000000  1.000000  1.000000   \n",
       "Random Forest                1.000000   1.000000  1.000000  1.000000   \n",
       "MultinomialNB                0.999811   0.999811  0.999811  0.999811   \n",
       "AdaBoostLogistic Regression  0.655227   0.712571  0.655227  0.618259   \n",
       "\n",
       "                              F1 Test  Train Time  \n",
       "Classifier                                         \n",
       "Linear SVM                   0.996211   58.174457  \n",
       "Decision Tree                0.948120   16.134581  \n",
       "Random Forest                0.988048  252.485492  \n",
       "MultinomialNB                0.999394    0.191845  \n",
       "AdaBoostLogistic Regression  0.608928  375.141921  "
      ]
     },
     "execution_count": 22,
     "metadata": {},
     "output_type": "execute_result"
    }
   ],
   "source": [
    "results.sort_values('F1 Train', ascending=False)"
   ]
  },
  {
   "cell_type": "code",
   "execution_count": 23,
   "id": "a133d9a3",
   "metadata": {},
   "outputs": [
    {
     "name": "stdout",
     "output_type": "stream",
     "text": [
      "{'MultinomialNB': '              precision    recall  f1-score   support\\n\\n           0       1.00      1.00      1.00      2387\\n           1       1.00      1.00      1.00      2438\\n           2       1.00      1.00      1.00      2411\\n           3       1.00      1.00      1.00      2410\\n           4       1.00      1.00      1.00      2418\\n           5       1.00      1.00      1.00      2409\\n           6       1.00      1.00      1.00      2391\\n           7       1.00      1.00      1.00      2362\\n           8       1.00      1.00      1.00      2422\\n           9       1.00      1.00      1.00      2385\\n          10       1.00      1.00      1.00      2367\\n\\n    accuracy                           1.00     26400\\n   macro avg       1.00      1.00      1.00     26400\\nweighted avg       1.00      1.00      1.00     26400\\n', 'Linear SVM': '              precision    recall  f1-score   support\\n\\n           0       1.00      1.00      1.00      2387\\n           1       1.00      1.00      1.00      2438\\n           2       1.00      1.00      1.00      2411\\n           3       1.00      1.00      1.00      2410\\n           4       1.00      1.00      1.00      2418\\n           5       1.00      1.00      1.00      2409\\n           6       1.00      1.00      1.00      2391\\n           7       1.00      1.00      1.00      2362\\n           8       1.00      1.00      1.00      2422\\n           9       1.00      1.00      1.00      2385\\n          10       1.00      1.00      1.00      2367\\n\\n    accuracy                           1.00     26400\\n   macro avg       1.00      1.00      1.00     26400\\nweighted avg       1.00      1.00      1.00     26400\\n', 'Decision Tree': '              precision    recall  f1-score   support\\n\\n           0       1.00      1.00      1.00      2387\\n           1       1.00      1.00      1.00      2438\\n           2       1.00      1.00      1.00      2411\\n           3       1.00      1.00      1.00      2410\\n           4       1.00      1.00      1.00      2418\\n           5       1.00      1.00      1.00      2409\\n           6       1.00      1.00      1.00      2391\\n           7       1.00      1.00      1.00      2362\\n           8       1.00      1.00      1.00      2422\\n           9       1.00      1.00      1.00      2385\\n          10       1.00      1.00      1.00      2367\\n\\n    accuracy                           1.00     26400\\n   macro avg       1.00      1.00      1.00     26400\\nweighted avg       1.00      1.00      1.00     26400\\n', 'Random Forest': '              precision    recall  f1-score   support\\n\\n           0       1.00      1.00      1.00      2387\\n           1       1.00      1.00      1.00      2438\\n           2       1.00      1.00      1.00      2411\\n           3       1.00      1.00      1.00      2410\\n           4       1.00      1.00      1.00      2418\\n           5       1.00      1.00      1.00      2409\\n           6       1.00      1.00      1.00      2391\\n           7       1.00      1.00      1.00      2362\\n           8       1.00      1.00      1.00      2422\\n           9       1.00      1.00      1.00      2385\\n          10       1.00      1.00      1.00      2367\\n\\n    accuracy                           1.00     26400\\n   macro avg       1.00      1.00      1.00     26400\\nweighted avg       1.00      1.00      1.00     26400\\n', 'AdaBoostLogistic Regression': '              precision    recall  f1-score   support\\n\\n           0       0.98      0.99      0.99      2387\\n           1       1.00      0.97      0.98      2438\\n           2       0.36      0.05      0.09      2411\\n           3       0.59      0.81      0.68      2410\\n           4       0.87      0.95      0.91      2418\\n           5       0.60      0.03      0.06      2409\\n           6       0.70      0.33      0.45      2391\\n           7       0.99      0.98      0.99      2362\\n           8       0.96      0.97      0.97      2422\\n           9       0.52      0.18      0.27      2385\\n          10       0.26      0.93      0.41      2367\\n\\n    accuracy                           0.66     26400\\n   macro avg       0.71      0.66      0.62     26400\\nweighted avg       0.71      0.66      0.62     26400\\n'}\n"
     ]
    }
   ],
   "source": [
    "print(class_report)"
   ]
  },
  {
   "cell_type": "code",
   "execution_count": 24,
   "id": "eec2744f",
   "metadata": {},
   "outputs": [
    {
     "name": "stdout",
     "output_type": "stream",
     "text": [
      "{'MultinomialNB': array([[2387,    0,    0,    0,    0,    0,    0,    0,    0,    0,    0],\n",
      "       [   0, 2438,    0,    0,    0,    0,    0,    0,    0,    0,    0],\n",
      "       [   0,    0, 2411,    0,    0,    0,    0,    0,    0,    0,    0],\n",
      "       [   0,    0,    0, 2410,    0,    0,    0,    0,    0,    0,    0],\n",
      "       [   0,    0,    0,    0, 2418,    0,    0,    0,    0,    0,    0],\n",
      "       [   0,    0,    0,    0,    0, 2409,    0,    0,    0,    0,    0],\n",
      "       [   0,    0,    0,    0,    0,    0, 2391,    0,    0,    0,    0],\n",
      "       [   0,    0,    0,    0,    0,    0,    0, 2362,    0,    0,    0],\n",
      "       [   0,    0,    0,    0,    0,    0,    0,    0, 2422,    0,    0],\n",
      "       [   0,    2,    0,    0,    0,    0,    0,    0,    0, 2383,    0],\n",
      "       [   0,    3,    0,    0,    0,    0,    0,    0,    0,    0, 2364]],\n",
      "      dtype=int64), 'Linear SVM': array([[2387,    0,    0,    0,    0,    0,    0,    0,    0,    0,    0],\n",
      "       [   0, 2438,    0,    0,    0,    0,    0,    0,    0,    0,    0],\n",
      "       [   0,    0, 2411,    0,    0,    0,    0,    0,    0,    0,    0],\n",
      "       [   0,    0,    0, 2410,    0,    0,    0,    0,    0,    0,    0],\n",
      "       [   0,    0,    0,    0, 2418,    0,    0,    0,    0,    0,    0],\n",
      "       [   0,    0,    0,    0,    0, 2409,    0,    0,    0,    0,    0],\n",
      "       [   0,    0,    0,    0,    0,    0, 2391,    0,    0,    0,    0],\n",
      "       [   0,    0,    0,    0,    0,    0,    0, 2362,    0,    0,    0],\n",
      "       [   0,    0,    0,    0,    0,    0,    0,    0, 2422,    0,    0],\n",
      "       [   0,    0,    0,    0,    0,    0,    0,    0,    0, 2385,    0],\n",
      "       [   0,    0,    0,    0,    0,    0,    0,    0,    0,    0, 2367]],\n",
      "      dtype=int64), 'Decision Tree': array([[2387,    0,    0,    0,    0,    0,    0,    0,    0,    0,    0],\n",
      "       [   0, 2438,    0,    0,    0,    0,    0,    0,    0,    0,    0],\n",
      "       [   0,    0, 2411,    0,    0,    0,    0,    0,    0,    0,    0],\n",
      "       [   0,    0,    0, 2410,    0,    0,    0,    0,    0,    0,    0],\n",
      "       [   0,    0,    0,    0, 2418,    0,    0,    0,    0,    0,    0],\n",
      "       [   0,    0,    0,    0,    0, 2409,    0,    0,    0,    0,    0],\n",
      "       [   0,    0,    0,    0,    0,    0, 2391,    0,    0,    0,    0],\n",
      "       [   0,    0,    0,    0,    0,    0,    0, 2362,    0,    0,    0],\n",
      "       [   0,    0,    0,    0,    0,    0,    0,    0, 2422,    0,    0],\n",
      "       [   0,    0,    0,    0,    0,    0,    0,    0,    0, 2385,    0],\n",
      "       [   0,    0,    0,    0,    0,    0,    0,    0,    0,    0, 2367]],\n",
      "      dtype=int64), 'Random Forest': array([[2387,    0,    0,    0,    0,    0,    0,    0,    0,    0,    0],\n",
      "       [   0, 2438,    0,    0,    0,    0,    0,    0,    0,    0,    0],\n",
      "       [   0,    0, 2411,    0,    0,    0,    0,    0,    0,    0,    0],\n",
      "       [   0,    0,    0, 2410,    0,    0,    0,    0,    0,    0,    0],\n",
      "       [   0,    0,    0,    0, 2418,    0,    0,    0,    0,    0,    0],\n",
      "       [   0,    0,    0,    0,    0, 2409,    0,    0,    0,    0,    0],\n",
      "       [   0,    0,    0,    0,    0,    0, 2391,    0,    0,    0,    0],\n",
      "       [   0,    0,    0,    0,    0,    0,    0, 2362,    0,    0,    0],\n",
      "       [   0,    0,    0,    0,    0,    0,    0,    0, 2422,    0,    0],\n",
      "       [   0,    0,    0,    0,    0,    0,    0,    0,    0, 2385,    0],\n",
      "       [   0,    0,    0,    0,    0,    0,    0,    0,    0,    0, 2367]],\n",
      "      dtype=int64), 'AdaBoostLogistic Regression': array([[2358,    0,    6,    0,    0,   15,    0,    0,    2,    0,    6],\n",
      "       [  30, 2371,    5,    0,    0,   13,    0,    0,    0,   12,    7],\n",
      "       [   1,    0,  127,    0,    3,    3,    0,    0,    2,  195, 2080],\n",
      "       [   0,    0,    1, 1958,  118,    1,  331,    0,    0,    1,    0],\n",
      "       [   0,    0,   82,    0, 2309,    0,    0,    0,   16,   11,    0],\n",
      "       [   4,    0,   11,    0,    2,   78,    1,    0,   51,   62, 2200],\n",
      "       [   0,    0,    4, 1364,  208,    3,  782,    1,   12,   15,    2],\n",
      "       [   0,    0,   14,    0,    2,    5,    0, 2322,    5,    2,   12],\n",
      "       [   0,    0,    0,    0,    2,    4,    1,   21, 2361,   24,    9],\n",
      "       [   1,    3,   30,    0,    2,    1,    0,    0,    9,  434, 1905],\n",
      "       [   3,    5,   72,    0,    2,    8,    0,    0,    0,   79, 2198]],\n",
      "      dtype=int64)}\n"
     ]
    }
   ],
   "source": [
    "print(confusion)"
   ]
  },
  {
   "cell_type": "markdown",
   "id": "0e46b478",
   "metadata": {},
   "source": [
    "from sklearn.model_selection import cross_val_score\n",
    "scores = cross_val_score(md, X=X_test[:10000], y=y_test[:10000], cv=10)\n",
    "print(\"Accuracy: {:0.2f} (+/- {:0.4f})\".format(scores.mean(), scores.std()))"
   ]
  },
  {
   "cell_type": "markdown",
   "id": "9d4c3498",
   "metadata": {},
   "source": [
    "print(scores)"
   ]
  },
  {
   "cell_type": "code",
   "execution_count": 29,
   "id": "b2dbdee9",
   "metadata": {
    "scrolled": true
   },
   "outputs": [],
   "source": [
    "for name, model in models.items():\n",
    "    y_sub = model.predict(X_test_count)\n",
    "    y_sub = le.inverse_transform(y_sub)\n",
    "    index = [i for i in range (1,len(y_sub)+1)]\n",
    "    dic = { 'index' : index,\n",
    "            'lang_id' : y_sub\n",
    "          }\n",
    "    y = pd.DataFrame(dic)\n",
    "    y.to_csv('out{}.csv'.format(name), index= False)"
   ]
  }
 ],
 "metadata": {
  "kernelspec": {
   "display_name": "Python 3",
   "language": "python",
   "name": "python3"
  },
  "language_info": {
   "codemirror_mode": {
    "name": "ipython",
    "version": 3
   },
   "file_extension": ".py",
   "mimetype": "text/x-python",
   "name": "python",
   "nbconvert_exporter": "python",
   "pygments_lexer": "ipython3",
   "version": "3.8.8"
  }
 },
 "nbformat": 4,
 "nbformat_minor": 5
}
